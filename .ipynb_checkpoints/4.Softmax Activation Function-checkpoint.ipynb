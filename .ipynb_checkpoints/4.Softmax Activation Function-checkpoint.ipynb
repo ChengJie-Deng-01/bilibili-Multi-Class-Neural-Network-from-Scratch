{
 "cells": [
  {
   "cell_type": "code",
   "execution_count": 1,
   "id": "326fc9fd",
   "metadata": {},
   "outputs": [],
   "source": [
    "import matplotlib.pyplot as plt\n",
    "import numpy as np"
   ]
  },
  {
   "cell_type": "code",
   "execution_count": null,
   "id": "e79c1355",
   "metadata": {},
   "outputs": [],
   "source": []
  },
  {
   "cell_type": "markdown",
   "id": "8045c6d7",
   "metadata": {},
   "source": [
    "## Softmax 输出概率\n",
    "\n",
    "将原始输出转为概率：\n",
    "\n",
    "$$\n",
    "\\hat{y}_k = \\frac{e^{z_k}}{\\sum_{j=1}^{K} e^{z_j}}\n",
    "$$\n",
    "\n",
    "每个 $\\hat{y}_k$ 是预测为类别 $k$ 的概率，所有 $\\hat{y}$ 加起来等于1\n",
    "\n"
   ]
  },
  {
   "cell_type": "code",
   "execution_count": null,
   "id": "cb4c9752",
   "metadata": {},
   "outputs": [],
   "source": []
  },
  {
   "cell_type": "markdown",
   "id": "4af67197",
   "metadata": {},
   "source": [
    "# 1: Example"
   ]
  },
  {
   "cell_type": "code",
   "execution_count": null,
   "id": "bea64ce7",
   "metadata": {},
   "outputs": [],
   "source": []
  },
  {
   "cell_type": "code",
   "execution_count": 4,
   "id": "1355d741",
   "metadata": {},
   "outputs": [
    {
     "data": {
      "text/plain": [
       "array([0.435, 1.305, 1.305])"
      ]
     },
     "execution_count": 4,
     "metadata": {},
     "output_type": "execute_result"
    }
   ],
   "source": [
    "np.array([0.435, 1.305, 1.305]) # logits"
   ]
  },
  {
   "cell_type": "code",
   "execution_count": null,
   "id": "d9460e6e",
   "metadata": {},
   "outputs": [],
   "source": []
  },
  {
   "cell_type": "code",
   "execution_count": 8,
   "id": "9fdbfe24",
   "metadata": {},
   "outputs": [
    {
     "data": {
      "text/plain": [
       "array([0.43675182, 0.3235537 , 0.23969448])"
      ]
     },
     "execution_count": 8,
     "metadata": {},
     "output_type": "execute_result"
    }
   ],
   "source": [
    "np.array([7.1, 6.8, 6.5]) # logits\n",
    "\n",
    "np.exp(np.array([7.1, 6.8, 6.5])) / np.sum( np.exp(np.array([7.1, 6.8, 6.5])) )"
   ]
  },
  {
   "cell_type": "code",
   "execution_count": null,
   "id": "23f23904",
   "metadata": {},
   "outputs": [],
   "source": []
  },
  {
   "cell_type": "code",
   "execution_count": null,
   "id": "19aaeef1",
   "metadata": {},
   "outputs": [],
   "source": []
  },
  {
   "cell_type": "markdown",
   "id": "3244e8b9",
   "metadata": {},
   "source": [
    "# 2: Limitation"
   ]
  },
  {
   "cell_type": "code",
   "execution_count": null,
   "id": "eee0d822",
   "metadata": {},
   "outputs": [],
   "source": []
  },
  {
   "cell_type": "code",
   "execution_count": null,
   "id": "1c21d88f",
   "metadata": {},
   "outputs": [],
   "source": []
  },
  {
   "cell_type": "markdown",
   "id": "efdf27e9",
   "metadata": {},
   "source": [
    "### Overflow"
   ]
  },
  {
   "cell_type": "code",
   "execution_count": null,
   "id": "983274f3",
   "metadata": {},
   "outputs": [],
   "source": [
    "np.array([1000000, 1.305, 1.305]) # logits"
   ]
  },
  {
   "cell_type": "code",
   "execution_count": 9,
   "id": "6dd1fa60",
   "metadata": {},
   "outputs": [
    {
     "name": "stderr",
     "output_type": "stream",
     "text": [
      "/var/folders/x8/gx5fqcls6yb3b18xngt70mz00000gn/T/ipykernel_58107/463666029.py:1: RuntimeWarning: overflow encountered in exp\n",
      "  np.exp(1000000)\n"
     ]
    },
    {
     "data": {
      "text/plain": [
       "inf"
      ]
     },
     "execution_count": 9,
     "metadata": {},
     "output_type": "execute_result"
    }
   ],
   "source": [
    "np.exp(1000000)"
   ]
  },
  {
   "cell_type": "code",
   "execution_count": null,
   "id": "be79f81d",
   "metadata": {},
   "outputs": [],
   "source": []
  },
  {
   "cell_type": "code",
   "execution_count": null,
   "id": "bb5ebd41",
   "metadata": {},
   "outputs": [],
   "source": []
  },
  {
   "cell_type": "code",
   "execution_count": null,
   "id": "d50fbf0f",
   "metadata": {},
   "outputs": [],
   "source": []
  },
  {
   "cell_type": "markdown",
   "id": "3658fe87",
   "metadata": {},
   "source": [
    "### Underflow"
   ]
  },
  {
   "cell_type": "code",
   "execution_count": 10,
   "id": "c69b55d1",
   "metadata": {},
   "outputs": [
    {
     "data": {
      "text/plain": [
       "0.0"
      ]
     },
     "execution_count": 10,
     "metadata": {},
     "output_type": "execute_result"
    }
   ],
   "source": [
    "np.exp(-1000000)"
   ]
  },
  {
   "cell_type": "code",
   "execution_count": null,
   "id": "4f9504b6",
   "metadata": {},
   "outputs": [],
   "source": []
  },
  {
   "cell_type": "code",
   "execution_count": null,
   "id": "03c360fa",
   "metadata": {},
   "outputs": [],
   "source": []
  },
  {
   "cell_type": "code",
   "execution_count": null,
   "id": "88b55589",
   "metadata": {},
   "outputs": [],
   "source": []
  },
  {
   "cell_type": "code",
   "execution_count": null,
   "id": "8cccd928",
   "metadata": {},
   "outputs": [],
   "source": []
  },
  {
   "cell_type": "markdown",
   "id": "64128ef3",
   "metadata": {},
   "source": [
    "# 3: Softmax (Numerical Stable Version)\n"
   ]
  },
  {
   "cell_type": "code",
   "execution_count": null,
   "id": "acca8fcf",
   "metadata": {},
   "outputs": [],
   "source": []
  },
  {
   "cell_type": "markdown",
   "id": "9dc7f393",
   "metadata": {},
   "source": [
    "直接计算 $ e^{z_k} $ 可能导致数值溢出-Numerical Overflow（如 $ z_k $ 很大时 $\\rightarrow$ Overflow 或者数值过小低于数据类型的最小值 $\\rightarrow$ Underflow）。通过**减去最大值** $ \\max(\\mathbf{z}) $ 来保证数值稳定性：\n",
    "\n",
    "$$\n",
    "\\text{softmax}(z_k) = \\frac{e^{z_k - \\max(\\mathbf{z})}}{\\sum_{j=1}^K e^{z_j - \\max(\\mathbf{z})}}\n",
    "$$"
   ]
  },
  {
   "cell_type": "code",
   "execution_count": 11,
   "id": "ee6040f2",
   "metadata": {},
   "outputs": [
    {
     "data": {
      "text/plain": [
       "array([0.43675182, 0.3235537 , 0.23969448])"
      ]
     },
     "execution_count": 11,
     "metadata": {},
     "output_type": "execute_result"
    }
   ],
   "source": [
    "np.array([7.1, 6.8, 6.5]) # logits\n",
    "\n",
    "np.exp(np.array([7.1, 6.8, 6.5])) / np.sum( np.exp(np.array([7.1, 6.8, 6.5])) )"
   ]
  },
  {
   "cell_type": "code",
   "execution_count": null,
   "id": "7b57fcc6",
   "metadata": {},
   "outputs": [],
   "source": []
  },
  {
   "cell_type": "code",
   "execution_count": 12,
   "id": "00b24b2c",
   "metadata": {},
   "outputs": [
    {
     "data": {
      "text/plain": [
       "array([0.43675182, 0.3235537 , 0.23969448])"
      ]
     },
     "execution_count": 12,
     "metadata": {},
     "output_type": "execute_result"
    }
   ],
   "source": [
    "np.exp(np.array([7.1, 6.8, 6.5]) - 7.1) / np.sum( np.exp(np.array([7.1, 6.8, 6.5]) - 7.1) )"
   ]
  },
  {
   "cell_type": "code",
   "execution_count": null,
   "id": "d328dc9b",
   "metadata": {},
   "outputs": [],
   "source": []
  },
  {
   "cell_type": "code",
   "execution_count": null,
   "id": "b6bc142e",
   "metadata": {},
   "outputs": [],
   "source": []
  },
  {
   "cell_type": "markdown",
   "id": "a61810ab",
   "metadata": {},
   "source": [
    "# 4: Softmax visualization"
   ]
  },
  {
   "cell_type": "code",
   "execution_count": 2,
   "id": "76eb9efe",
   "metadata": {},
   "outputs": [
    {
     "data": {
      "image/png": "[encoded data removed]",
      "text/plain": [
       "<Figure size 800x600 with 1 Axes>"
      ]
     },
     "metadata": {},
     "output_type": "display_data"
    }
   ],
   "source": [
    "\n",
    "\n",
    "# 设置x的范围\n",
    "x = np.linspace(-2, 2, 500)\n",
    "y = np.exp(x)  # 指数函数 y = e^x\n",
    "\n",
    "# 定义三个x点，x1, x2, x3\n",
    "x1, x2 = 0.435, 1.305\n",
    "y1, y2 = np.exp(x1), np.exp(x2)\n",
    "\n",
    "x1_prime, x2_prime = 0 - 1.305, 0\n",
    "y1_prime, y2_prime = np.exp(x1_prime), np.exp(x2_prime)\n",
    "\n",
    "\n",
    "d = x2 - x1\n",
    "d_prime = x2_prime - x1_prime\n",
    "\n",
    "\n",
    "fig, ax = plt.subplots(figsize=(8, 6))\n",
    "ax.plot(x, y, label=r'$y = e^x$', color='black')\n",
    "\n",
    "\n",
    "# 画两个点及其连线 (x, y)\n",
    "ax.plot([x1, x2], [y1, y2], 'ro')\n",
    "ax.plot([x1, x2], [y1, y2], 'r--', label=r'Slope segment')\n",
    "\n",
    "# (x_prime, y_prime)\n",
    "ax.plot([x1_prime, x2_prime], [y1_prime, y2_prime], 'ro')\n",
    "ax.plot([x1_prime, x2_prime], [y1_prime, y2_prime], 'r--')\n",
    "\n",
    "\n",
    "# 标记垂直线和水平线 (x, y)\n",
    "ax.vlines([x1, x2], ymin=0, ymax=[y1, y2], colors='gray', linestyles='dotted')\n",
    "ax.hlines([y1, y2], xmin=0, xmax=[x1, x2], colors='gray', linestyles='dotted')\n",
    "\n",
    "# (x_prime, y_prime)\n",
    "ax.vlines([x1_prime, x2_prime], ymin=0, ymax=[y1_prime, y2_prime], colors='gray', linestyles='dotted')\n",
    "ax.hlines([y1_prime, y2_prime], xmin=0, xmax=[x1_prime, x2_prime], colors='gray', linestyles='dotted')\n",
    "\n",
    "\n",
    "\n",
    "# 添加文本 (x, y)\n",
    "ax.text(0-0.15, y1, r'$y_1$', fontsize=14)\n",
    "ax.text(0-0.15, y2, r'$y_2$', fontsize=14)\n",
    "ax.text(x1 - 0.1, 0-0.1, r'$x_1$', fontsize=14)\n",
    "ax.text(x2 - 0.1, 0-0.1, r'$x_2$', fontsize=14)\n",
    "\n",
    "ax.text((x1 + x2)/2 - 0.4, -0.6, r'$d$($x_2 - x_1$) = ' + str(round(d,3)), fontsize=12, color = 'red')\n",
    "\n",
    "\n",
    "\n",
    "# (x_prime, y_prime)\n",
    "ax.text(0+0.05, y1_prime, r'$y_1^\\prime$', fontsize=14)\n",
    "ax.text(0+0.05, y2_prime, r'$y_2^\\prime$', fontsize=14)\n",
    "ax.text(x1_prime - 0.1, 0-0.1, r'$x_1^\\prime$', fontsize=14)\n",
    "ax.text(x2_prime - 0.1, 0-0.1, r'$x_2^\\prime$', fontsize=14)\n",
    "\n",
    "ax.text((x1_prime + x2_prime)/2 - 0.4, -0.6, r'$d$($x_2^\\prime$ - $x_1^\\prime$) = ' + str(round(d,3)), fontsize=12, color = 'red')\n",
    "\n",
    "\n",
    "\n",
    "\n",
    "# 显示Softmax比例关系\n",
    "ax.text(-1.1, 3, r'$\\frac{y_2}{y_1} = C$', fontsize=16)\n",
    "ax.text(-1.1, 2.3, r'$\\frac{y_2^\\prime}{y_1^\\prime} = \\frac{y_2}{y_1}$', fontsize=16)\n",
    "\n",
    "\n",
    "\n",
    "# 轴标签和标题\n",
    "ax.set_xlabel('x')\n",
    "ax.set_ylabel('y')\n",
    "ax.set_title('Understanding Exponential Growth and Softmax Motivation\\n', fontsize = 16)\n",
    "\n",
    "\n",
    "\n",
    "# 加坐标信息\n",
    "ax.text(x1, y1-0.3, f'({x1}, {y1.round(2)})', fontsize=12)\n",
    "ax.text(x2, y2-0.3, f'({x2}, {y2.round(2)})', fontsize=12)\n",
    "\n",
    "\n",
    "ax.set_ylim(0, 7)\n",
    "ax.legend(fontsize = 14)\n",
    "ax.grid(True)\n",
    "plt.axhline(0, color='black', lw=0.5)\n",
    "plt.axvline(0, color='black', lw=0.5)\n",
    "\n",
    "plt.tight_layout()\n",
    "plt.show()\n"
   ]
  },
  {
   "cell_type": "code",
   "execution_count": 5,
   "id": "297ba07b",
   "metadata": {},
   "outputs": [
    {
     "data": {
      "text/plain": [
       "array([0.435, 1.305, 1.305])"
      ]
     },
     "execution_count": 5,
     "metadata": {},
     "output_type": "execute_result"
    }
   ],
   "source": [
    "np.array([0.435, 1.305, 1.305]) # logits"
   ]
  },
  {
   "cell_type": "code",
   "execution_count": null,
   "id": "cd8dc19c",
   "metadata": {},
   "outputs": [],
   "source": []
  },
  {
   "cell_type": "code",
   "execution_count": null,
   "id": "c103dda4",
   "metadata": {},
   "outputs": [],
   "source": []
  },
  {
   "cell_type": "code",
   "execution_count": null,
   "id": "91f5803d",
   "metadata": {},
   "outputs": [],
   "source": []
  },
  {
   "cell_type": "code",
   "execution_count": null,
   "id": "1ff56e03",
   "metadata": {},
   "outputs": [],
   "source": []
  },
  {
   "cell_type": "code",
   "execution_count": null,
   "id": "f7a21792",
   "metadata": {},
   "outputs": [],
   "source": []
  }
 ],
 "metadata": {
  "kernelspec": {
   "display_name": "Python (Anaconda)",
   "language": "python",
   "name": "anaconda3"
  },
  "language_info": {
   "codemirror_mode": {
    "name": "ipython",
    "version": 3
   },
   "file_extension": ".py",
   "mimetype": "text/x-python",
   "name": "python",
   "nbconvert_exporter": "python",
   "pygments_lexer": "ipython3",
   "version": "3.9.16"
  }
 },
 "nbformat": 4,
 "nbformat_minor": 5
}
