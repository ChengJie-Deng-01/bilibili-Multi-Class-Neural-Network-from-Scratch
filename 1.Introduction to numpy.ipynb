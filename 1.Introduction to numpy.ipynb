{
 "cells": [
  {
   "cell_type": "code",
   "execution_count": 1,
   "id": "acce7553",
   "metadata": {},
   "outputs": [],
   "source": [
    "import numpy as np\n"
   ]
  },
  {
   "cell_type": "markdown",
   "id": "d654e972",
   "metadata": {},
   "source": [
    "# 1: 创建数组"
   ]
  },
  {
   "cell_type": "markdown",
   "id": "ce962037",
   "metadata": {},
   "source": [
    "```python\n",
    "1. np.array() # convert list to array\n",
    "2. np.full()\n",
    "3. np.zeros()\n",
    "\n",
    "```"
   ]
  },
  {
   "cell_type": "code",
   "execution_count": 17,
   "id": "99992c4a",
   "metadata": {},
   "outputs": [
    {
     "data": {
      "text/plain": [
       "array([1, 2, 3, 4])"
      ]
     },
     "execution_count": 17,
     "metadata": {},
     "output_type": "execute_result"
    }
   ],
   "source": [
    "np.array([1,2,3,4])"
   ]
  },
  {
   "cell_type": "code",
   "execution_count": 20,
   "id": "0e818ca0",
   "metadata": {},
   "outputs": [
    {
     "data": {
      "text/plain": [
       "array([[100, 100, 100],\n",
       "       [100, 100, 100]])"
      ]
     },
     "execution_count": 20,
     "metadata": {},
     "output_type": "execute_result"
    }
   ],
   "source": [
    "np.full((2,3), 100)"
   ]
  },
  {
   "cell_type": "code",
   "execution_count": 21,
   "id": "7c509d56",
   "metadata": {},
   "outputs": [
    {
     "data": {
      "text/plain": [
       "array([[0., 0., 0., 0.],\n",
       "       [0., 0., 0., 0.],\n",
       "       [0., 0., 0., 0.]])"
      ]
     },
     "execution_count": 21,
     "metadata": {},
     "output_type": "execute_result"
    }
   ],
   "source": [
    "np.zeros((3,4))"
   ]
  },
  {
   "cell_type": "code",
   "execution_count": null,
   "id": "3b54e268",
   "metadata": {},
   "outputs": [],
   "source": []
  },
  {
   "cell_type": "markdown",
   "id": "d7daef0b",
   "metadata": {},
   "source": [
    "# 2: Array $\\rightarrow$ 数组 / List $\\rightarrow$ 列表"
   ]
  },
  {
   "cell_type": "code",
   "execution_count": 6,
   "id": "f7587de9",
   "metadata": {},
   "outputs": [
    {
     "name": "stdout",
     "output_type": "stream",
     "text": [
      "[1, [1, 2, 3], True, 'apple'] <class 'list'>\n",
      "[1, 2, 3, 4] <class 'list'>\n"
     ]
    }
   ],
   "source": [
    "print([1, [1,2,3], True, \"apple\"], type([1, [1,2,3], True, \"apple\"]))\n",
    "print([1, 2,3,4], type([1, 2,3,4]))"
   ]
  },
  {
   "cell_type": "code",
   "execution_count": 5,
   "id": "aaeb0f61",
   "metadata": {},
   "outputs": [
    {
     "name": "stdout",
     "output_type": "stream",
     "text": [
      "[1 2 3 4] <class 'numpy.ndarray'>\n"
     ]
    }
   ],
   "source": [
    "print(np.array([1,2,3,4]), type(np.array([1,2,3,4])))"
   ]
  },
  {
   "cell_type": "code",
   "execution_count": null,
   "id": "920adbaf",
   "metadata": {},
   "outputs": [],
   "source": []
  },
  {
   "cell_type": "code",
   "execution_count": 7,
   "id": "3e40d8d7",
   "metadata": {},
   "outputs": [
    {
     "ename": "TypeError",
     "evalue": "can only concatenate list (not \"int\") to list",
     "output_type": "error",
     "traceback": [
      "\u001b[0;31m---------------------------------------------------------------------------\u001b[0m",
      "\u001b[0;31mTypeError\u001b[0m                                 Traceback (most recent call last)",
      "Cell \u001b[0;32mIn[7], line 1\u001b[0m\n\u001b[0;32m----> 1\u001b[0m \u001b[43m[\u001b[49m\u001b[38;5;241;43m1\u001b[39;49m\u001b[43m,\u001b[49m\u001b[38;5;241;43m2\u001b[39;49m\u001b[43m,\u001b[49m\u001b[38;5;241;43m3\u001b[39;49m\u001b[43m,\u001b[49m\u001b[38;5;241;43m4\u001b[39;49m\u001b[43m]\u001b[49m\u001b[38;5;241;43m+\u001b[39;49m\u001b[38;5;241;43m1\u001b[39;49m\n",
      "\u001b[0;31mTypeError\u001b[0m: can only concatenate list (not \"int\") to list"
     ]
    }
   ],
   "source": [
    "[1,2,3,4]+1"
   ]
  },
  {
   "cell_type": "code",
   "execution_count": 13,
   "id": "51466db9",
   "metadata": {},
   "outputs": [
    {
     "ename": "TypeError",
     "evalue": "unsupported operand type(s) for -: 'list' and 'int'",
     "output_type": "error",
     "traceback": [
      "\u001b[0;31m---------------------------------------------------------------------------\u001b[0m",
      "\u001b[0;31mTypeError\u001b[0m                                 Traceback (most recent call last)",
      "Cell \u001b[0;32mIn[13], line 1\u001b[0m\n\u001b[0;32m----> 1\u001b[0m \u001b[43m[\u001b[49m\u001b[38;5;241;43m1\u001b[39;49m\u001b[43m,\u001b[49m\u001b[38;5;241;43m2\u001b[39;49m\u001b[43m,\u001b[49m\u001b[38;5;241;43m3\u001b[39;49m\u001b[43m,\u001b[49m\u001b[38;5;241;43m4\u001b[39;49m\u001b[43m]\u001b[49m\u001b[38;5;241;43m-\u001b[39;49m\u001b[38;5;241;43m1\u001b[39;49m\n",
      "\u001b[0;31mTypeError\u001b[0m: unsupported operand type(s) for -: 'list' and 'int'"
     ]
    }
   ],
   "source": [
    "[1,2,3,4]-1"
   ]
  },
  {
   "cell_type": "code",
   "execution_count": 14,
   "id": "66a5cdee",
   "metadata": {},
   "outputs": [
    {
     "ename": "TypeError",
     "evalue": "unsupported operand type(s) for /: 'list' and 'int'",
     "output_type": "error",
     "traceback": [
      "\u001b[0;31m---------------------------------------------------------------------------\u001b[0m",
      "\u001b[0;31mTypeError\u001b[0m                                 Traceback (most recent call last)",
      "Cell \u001b[0;32mIn[14], line 1\u001b[0m\n\u001b[0;32m----> 1\u001b[0m \u001b[43m[\u001b[49m\u001b[38;5;241;43m1\u001b[39;49m\u001b[43m,\u001b[49m\u001b[38;5;241;43m2\u001b[39;49m\u001b[43m,\u001b[49m\u001b[38;5;241;43m3\u001b[39;49m\u001b[43m,\u001b[49m\u001b[38;5;241;43m4\u001b[39;49m\u001b[43m]\u001b[49m\u001b[38;5;241;43m/\u001b[39;49m\u001b[38;5;241;43m2\u001b[39;49m\n",
      "\u001b[0;31mTypeError\u001b[0m: unsupported operand type(s) for /: 'list' and 'int'"
     ]
    }
   ],
   "source": [
    "[1,2,3,4]/2"
   ]
  },
  {
   "cell_type": "code",
   "execution_count": 16,
   "id": "e9703d9b",
   "metadata": {},
   "outputs": [
    {
     "data": {
      "text/plain": [
       "[1, 2, 3, 4, 1, 2, 3, 4, 1, 2, 3, 4]"
      ]
     },
     "execution_count": 16,
     "metadata": {},
     "output_type": "execute_result"
    }
   ],
   "source": [
    "[1,2,3,4] * 3"
   ]
  },
  {
   "cell_type": "code",
   "execution_count": 12,
   "id": "fe6d2119",
   "metadata": {},
   "outputs": [
    {
     "name": "stdout",
     "output_type": "stream",
     "text": [
      "[1 2 3 4]\n",
      "[2 3 4 5]\n",
      "[0 1 2 3]\n",
      "[10 20 30 40]\n"
     ]
    }
   ],
   "source": [
    "print(np.array([1,2,3,4]))\n",
    "print(np.array([1,2,3,4]) + 1)\n",
    "print(np.array([1,2,3,4]) - 1)\n",
    "print(np.array([1,2,3,4]) * 10)"
   ]
  },
  {
   "cell_type": "code",
   "execution_count": null,
   "id": "ee883cfd",
   "metadata": {},
   "outputs": [],
   "source": []
  },
  {
   "cell_type": "markdown",
   "id": "5237ea8d",
   "metadata": {},
   "source": [
    "# 3: 数组运算"
   ]
  },
  {
   "cell_type": "markdown",
   "id": "6aa097ad",
   "metadata": {},
   "source": [
    "```python\n",
    "# 返回的是一个标量值，代表整个数组中的最大/小/均值元素\n",
    "1. np.max()/np.min()/np.mean()\n",
    "\n",
    "# 比较两个数组中对应位置的元素，返回一个新的数组，新数组中的每个元素是两个输入数组对应位置元素的最大值\n",
    "2. np.maximum()\n",
    "\n",
    "\n",
    "# 对二维数组进行矩阵乘法运算。\n",
    "3. np.dot()/@\n",
    "```\n",
    "\n",
    "设 $A=(a_{ij})$ 是一个 $m\\times s$ 矩阵，$B=(b_{ij})$ 是一个 $s\\times n$ 矩阵，那么它们的乘积 $C = AB$ 是一个 $m\\times n$ 矩阵，其中元素 $c_{ij}$ 的计算公式为：\n",
    "\n",
    "$$\n",
    "c_{ij}=\\sum_{k = 1}^{s}a_{ik}b_{kj}, \\quad i = 1,2,\\cdots,m; j = 1,2,\\cdots,n \n",
    "$$"
   ]
  },
  {
   "cell_type": "markdown",
   "id": "ce35416b",
   "metadata": {},
   "source": [
    "\n",
    "\n"
   ]
  },
  {
   "cell_type": "code",
   "execution_count": 24,
   "id": "0005208b",
   "metadata": {},
   "outputs": [
    {
     "name": "stdout",
     "output_type": "stream",
     "text": [
      "3\n",
      "1\n",
      "2.0\n"
     ]
    }
   ],
   "source": [
    "a1 = np.array([1,2,3]) # 一维数组\n",
    "print(np.max(a1))\n",
    "print(np.min(a1))\n",
    "print(np.mean(a1))"
   ]
  },
  {
   "cell_type": "code",
   "execution_count": 27,
   "id": "6fbf1d62",
   "metadata": {},
   "outputs": [
    {
     "name": "stdout",
     "output_type": "stream",
     "text": [
      "6\n",
      "1\n",
      "3.5\n"
     ]
    }
   ],
   "source": [
    "a2 = np.array([[1,2,3],\n",
    "             [4,5,6]]) # 二维数组\n",
    "\n",
    "print(np.max(a2))\n",
    "print(np.min(a2))\n",
    "print(np.mean(a2))"
   ]
  },
  {
   "cell_type": "code",
   "execution_count": 31,
   "id": "e1eb0e31",
   "metadata": {},
   "outputs": [
    {
     "name": "stdout",
     "output_type": "stream",
     "text": [
      "[[1 2 3]\n",
      " [4 5 6]]\n",
      "\n",
      "[4 5 6]\n",
      "[3 6]\n"
     ]
    }
   ],
   "source": [
    "print(a2)\n",
    "print()\n",
    "print(np.max(a2, axis=0)) # 返回每一个column的最大值\n",
    "print(np.max(a2, axis=1)) # 返回每一个row的最大值"
   ]
  },
  {
   "cell_type": "code",
   "execution_count": null,
   "id": "f0978dd9",
   "metadata": {},
   "outputs": [],
   "source": []
  },
  {
   "cell_type": "code",
   "execution_count": null,
   "id": "39be5139",
   "metadata": {},
   "outputs": [],
   "source": []
  },
  {
   "cell_type": "code",
   "execution_count": 43,
   "id": "90b9bb11",
   "metadata": {},
   "outputs": [
    {
     "name": "stdout",
     "output_type": "stream",
     "text": [
      "[[  0 200   0]\n",
      " [  0   5   6]]\n",
      "(2, 3)\n",
      "(3, 4)\n"
     ]
    }
   ],
   "source": [
    "a1 = np.array([[0,200,-3],\n",
    "             [0,5,6]]) # 二维数组\n",
    "\n",
    "a2 = np.array([[1,2,3, 5],\n",
    "             [4,5,6, 9],\n",
    "              [3,4,5, 8]]) # 二维数组\n",
    "\n",
    "\n",
    "print(np.maximum(0, a1))\n",
    "print(a1.shape)\n",
    "print(a2.shape)"
   ]
  },
  {
   "cell_type": "code",
   "execution_count": 49,
   "id": "741c1b83",
   "metadata": {},
   "outputs": [
    {
     "name": "stdout",
     "output_type": "stream",
     "text": [
      "[[  0 200  -3]\n",
      " [  0   5   6]]\n",
      "[[1 2 3 5]\n",
      " [4 5 6 9]\n",
      " [3 4 5 8]]\n",
      "(2, 4)\n",
      "[[ 791  988 1185 1776]\n",
      " [  38   49   60   93]]\n"
     ]
    }
   ],
   "source": [
    "print(a1)\n",
    "print(a2)\n",
    "print((a1 @ a2).shape)\n",
    "\n",
    "print(a1 @ a2)\n"
   ]
  },
  {
   "cell_type": "code",
   "execution_count": null,
   "id": "fd034c14",
   "metadata": {},
   "outputs": [],
   "source": []
  }
 ],
 "metadata": {
  "kernelspec": {
   "display_name": "Python (Anaconda)",
   "language": "python",
   "name": "anaconda3"
  },
  "language_info": {
   "codemirror_mode": {
    "name": "ipython",
    "version": 3
   },
   "file_extension": ".py",
   "mimetype": "text/x-python",
   "name": "python",
   "nbconvert_exporter": "python",
   "pygments_lexer": "ipython3",
   "version": "3.9.15"
  }
 },
 "nbformat": 4,
 "nbformat_minor": 5
}
